{
 "cells": [
  {
   "cell_type": "markdown",
   "metadata": {},
   "source": [
    "# COVID-19 Dataset Analysis\n",
    "## RNN: LSTM을 이용한 COVID-19 감염자 예측\n",
    "- 시계열 데이터 처리를 이용하여 COVID-19 감염자를 예측하고자 함\n",
    "- Dataset: KCDC, https://github.com/jooeungen/coronaboard_kr"
   ]
  },
  {
   "cell_type": "code",
   "execution_count": 73,
   "metadata": {},
   "outputs": [
    {
     "name": "stdout",
     "output_type": "stream",
     "text": [
      "         date  confirmed  death  released   tested  negative\n",
      "0    20200121          1      0         0        1         0\n",
      "1    20200122          1      0         0        1         0\n",
      "2    20200123          1      0         0        1         0\n",
      "3    20200124          2      0         0        2         0\n",
      "4    20200125          2      0         0        2         0\n",
      "..        ...        ...    ...       ...      ...       ...\n",
      "152  20200621      12421    280     10868  1176463   1143971\n",
      "153  20200622      12438    280     10881  1182066   1150225\n",
      "154  20200623      12484    281     10908  1196012   1161250\n",
      "155  20200624      12535    281     10930  1208597   1175817\n",
      "156  20200625      12563    282     10974  1220478   1189015\n",
      "\n",
      "[157 rows x 6 columns]\n"
     ]
    },
    {
     "data": {
      "text/plain": [
       "<matplotlib.axes._subplots.AxesSubplot at 0x1b4d0631c48>"
      ]
     },
     "execution_count": 73,
     "metadata": {},
     "output_type": "execute_result"
    },
    {
     "data": {
      "image/png": "[encoded data removed]",
      "text/plain": [
       "<Figure size 432x288 with 1 Axes>"
      ]
     },
     "metadata": {
      "needs_background": "light"
     },
     "output_type": "display_data"
    }
   ],
   "source": [
    "import matplotlib.pyplot as plt\n",
    "import pandas as pd\n",
    "import numpy as np\n",
    "\n",
    "from keras.models import Sequential\n",
    "from keras.layers import Dense, LSTM\n",
    "\n",
    "from sklearn.model_selection import train_test_split\n",
    "\n",
    "\n",
    "df = pd.read_csv(\"kr_daily.csv\")\n",
    "\n",
    "print(df)\n",
    "df['date'] = pd.to_datetime(df['date'], format='%Y%m%d')\n",
    "df = df.set_index('date')\n",
    "\n",
    "df.plot()"
   ]
  },
  {
   "cell_type": "code",
   "execution_count": 74,
   "metadata": {},
   "outputs": [
    {
     "name": "stdout",
     "output_type": "stream",
     "text": [
      "     confirmed     death  released        tested  negative\n",
      "0     0.000000  0.000000  0.000000  0.000000e+00  0.000000\n",
      "1     0.000000  0.000000  0.000000  0.000000e+00  0.000000\n",
      "2     0.000000  0.000000  0.000000  0.000000e+00  0.000000\n",
      "3     0.000080  0.000000  0.000000  8.193518e-07  0.000000\n",
      "4     0.000080  0.000000  0.000000  8.193518e-07  0.000000\n",
      "..         ...       ...       ...           ...       ...\n",
      "152   0.988696  0.992908  0.990341  9.639362e-01  0.962117\n",
      "153   0.990049  0.992908  0.991525  9.685271e-01  0.967376\n",
      "154   0.993711  0.996454  0.993986  9.799537e-01  0.976649\n",
      "155   0.997771  0.996454  0.995991  9.902653e-01  0.988900\n",
      "156   1.000000  1.000000  1.000000  1.000000e+00  1.000000\n",
      "\n",
      "[157 rows x 5 columns]\n"
     ]
    }
   ],
   "source": [
    "from sklearn.preprocessing import MinMaxScaler\n",
    "\n",
    "scaler = MinMaxScaler()\n",
    "scale_cols = ['confirmed', 'death', 'released', 'tested', 'negative']\n",
    "df_scaled = scaler.fit_transform(df[scale_cols])\n",
    "\n",
    "df_scaled = pd.DataFrame(df_scaled)\n",
    "df_scaled.columns = scale_cols\n",
    "\n",
    "print(df_scaled)"
   ]
  },
  {
   "cell_type": "code",
   "execution_count": 145,
   "metadata": {},
   "outputs": [],
   "source": [
    "TEST_SIZE = 20"
   ]
  },
  {
   "cell_type": "code",
   "execution_count": 146,
   "metadata": {},
   "outputs": [],
   "source": [
    "train = df_scaled[:-TEST_SIZE]\n",
    "test = df_scaled[-TEST_SIZE:]"
   ]
  },
  {
   "cell_type": "code",
   "execution_count": 171,
   "metadata": {},
   "outputs": [],
   "source": [
    "def make_dataset(data, label, window_size=20):\n",
    "    feature_list = []\n",
    "    label_list = []\n",
    "    for i in range(len(data) - window_size):\n",
    "        feature_list.append(np.array(data.iloc[i:i+window_size]))\n",
    "        label_list.append(np.array(label.iloc[i+window_size]))\n",
    "    return np.array(feature_list), np.array(label_list)"
   ]
  },
  {
   "cell_type": "code",
   "execution_count": 175,
   "metadata": {},
   "outputs": [
    {
     "data": {
      "text/plain": [
       "((107, 3, 4), (27, 3, 4))"
      ]
     },
     "execution_count": 175,
     "metadata": {},
     "output_type": "execute_result"
    }
   ],
   "source": [
    "feature_cols = ['death', 'released', 'tested', 'negative']\n",
    "label_cols = ['confirmed']\n",
    "\n",
    "train_feature = train[feature_cols]\n",
    "train_label = train[label_cols]\n",
    "\n",
    "# train dataset\n",
    "train_feature, train_label = make_dataset(train_feature, train_label, 3)\n",
    "# train, validation set 생성\n",
    "from sklearn.model_selection import train_test_split\n",
    "x_train, x_valid, y_train, y_valid = train_test_split(train_feature, train_label, test_size=0.2)\n",
    "\n",
    "x_train.shape, x_valid.shape"
   ]
  },
  {
   "cell_type": "code",
   "execution_count": 176,
   "metadata": {},
   "outputs": [
    {
     "data": {
      "text/plain": [
       "((17, 3, 4), (17, 1))"
      ]
     },
     "execution_count": 176,
     "metadata": {},
     "output_type": "execute_result"
    }
   ],
   "source": [
    "test_feature = test[feature_cols]\n",
    "test_label = test[label_cols]\n",
    "\n",
    "# test dataset (실제 예측 해볼 데이터)\n",
    "test_feature, test_label = make_dataset(test_feature, test_label, 3)\n",
    "test_feature.shape, test_label.shape\n",
    "# ((180, 20, 4), (180, 1))"
   ]
  },
  {
   "cell_type": "code",
   "execution_count": 177,
   "metadata": {},
   "outputs": [
    {
     "name": "stdout",
     "output_type": "stream",
     "text": [
      "Train on 107 samples, validate on 27 samples\n",
      "Epoch 1/200\n",
      "107/107 [==============================] - 0s 2ms/step - loss: 0.4394 - val_loss: 0.2668\n",
      "Epoch 2/200\n",
      "107/107 [==============================] - 0s 121us/step - loss: 0.3881 - val_loss: 0.2346\n",
      "Epoch 3/200\n",
      "107/107 [==============================] - 0s 103us/step - loss: 0.3416 - val_loss: 0.2031\n",
      "Epoch 4/200\n",
      "107/107 [==============================] - 0s 103us/step - loss: 0.2908 - val_loss: 0.1723\n",
      "Epoch 5/200\n",
      "107/107 [==============================] - 0s 93us/step - loss: 0.2401 - val_loss: 0.1378\n",
      "Epoch 6/200\n",
      "107/107 [==============================] - 0s 84us/step - loss: 0.1815 - val_loss: 0.1014\n",
      "Epoch 7/200\n",
      "107/107 [==============================] - 0s 93us/step - loss: 0.1245 - val_loss: 0.0679\n",
      "Epoch 8/200\n",
      "107/107 [==============================] - 0s 84us/step - loss: 0.0713 - val_loss: 0.0449\n",
      "Epoch 9/200\n",
      "107/107 [==============================] - 0s 93us/step - loss: 0.0412 - val_loss: 0.0333\n",
      "Epoch 10/200\n",
      "107/107 [==============================] - 0s 84us/step - loss: 0.0286 - val_loss: 0.0322\n",
      "Epoch 11/200\n",
      "107/107 [==============================] - 0s 93us/step - loss: 0.0290 - val_loss: 0.0334\n",
      "Epoch 12/200\n",
      "107/107 [==============================] - 0s 93us/step - loss: 0.0291 - val_loss: 0.0319\n",
      "Epoch 13/200\n",
      "107/107 [==============================] - 0s 93us/step - loss: 0.0269 - val_loss: 0.0304\n",
      "Epoch 14/200\n",
      "107/107 [==============================] - 0s 93us/step - loss: 0.0260 - val_loss: 0.0293\n",
      "Epoch 15/200\n",
      "107/107 [==============================] - 0s 93us/step - loss: 0.0255 - val_loss: 0.0286\n",
      "Epoch 16/200\n",
      "107/107 [==============================] - 0s 93us/step - loss: 0.0249 - val_loss: 0.0281\n",
      "Epoch 17/200\n",
      "107/107 [==============================] - 0s 93us/step - loss: 0.0242 - val_loss: 0.0275\n",
      "Epoch 18/200\n",
      "107/107 [==============================] - 0s 93us/step - loss: 0.0236 - val_loss: 0.0269\n",
      "Epoch 19/200\n",
      "107/107 [==============================] - 0s 93us/step - loss: 0.0230 - val_loss: 0.0261\n",
      "Epoch 20/200\n",
      "107/107 [==============================] - 0s 93us/step - loss: 0.0224 - val_loss: 0.0254\n",
      "Epoch 21/200\n",
      "107/107 [==============================] - 0s 103us/step - loss: 0.0218 - val_loss: 0.0245\n",
      "Epoch 22/200\n",
      "107/107 [==============================] - 0s 84us/step - loss: 0.0212 - val_loss: 0.0237\n",
      "Epoch 23/200\n",
      "107/107 [==============================] - 0s 93us/step - loss: 0.0206 - val_loss: 0.0229\n",
      "Epoch 24/200\n",
      "107/107 [==============================] - 0s 93us/step - loss: 0.0200 - val_loss: 0.0221\n",
      "Epoch 25/200\n",
      "107/107 [==============================] - 0s 93us/step - loss: 0.0193 - val_loss: 0.0212\n",
      "Epoch 26/200\n",
      "107/107 [==============================] - 0s 93us/step - loss: 0.0187 - val_loss: 0.0204\n",
      "Epoch 27/200\n",
      "107/107 [==============================] - 0s 103us/step - loss: 0.0181 - val_loss: 0.0198\n",
      "Epoch 28/200\n",
      "107/107 [==============================] - 0s 93us/step - loss: 0.0175 - val_loss: 0.0190\n",
      "Epoch 29/200\n",
      "107/107 [==============================] - 0s 93us/step - loss: 0.0168 - val_loss: 0.0180\n",
      "Epoch 30/200\n",
      "107/107 [==============================] - 0s 93us/step - loss: 0.0162 - val_loss: 0.0172\n",
      "Epoch 31/200\n",
      "107/107 [==============================] - 0s 103us/step - loss: 0.0156 - val_loss: 0.0164\n",
      "Epoch 32/200\n",
      "107/107 [==============================] - 0s 93us/step - loss: 0.0149 - val_loss: 0.0156\n",
      "Epoch 33/200\n",
      "107/107 [==============================] - 0s 93us/step - loss: 0.0143 - val_loss: 0.0149\n",
      "Epoch 34/200\n",
      "107/107 [==============================] - 0s 93us/step - loss: 0.0137 - val_loss: 0.0142\n",
      "Epoch 35/200\n",
      "107/107 [==============================] - 0s 93us/step - loss: 0.0131 - val_loss: 0.0135\n",
      "Epoch 36/200\n",
      "107/107 [==============================] - 0s 93us/step - loss: 0.0125 - val_loss: 0.0127\n",
      "Epoch 37/200\n",
      "107/107 [==============================] - ETA: 0s - loss: 0.009 - 0s 93us/step - loss: 0.0119 - val_loss: 0.0120\n",
      "Epoch 38/200\n",
      "107/107 [==============================] - 0s 93us/step - loss: 0.0113 - val_loss: 0.0114\n",
      "Epoch 39/200\n",
      "107/107 [==============================] - 0s 93us/step - loss: 0.0108 - val_loss: 0.0110\n",
      "Epoch 40/200\n",
      "107/107 [==============================] - 0s 93us/step - loss: 0.0102 - val_loss: 0.0103\n",
      "Epoch 41/200\n",
      "107/107 [==============================] - 0s 93us/step - loss: 0.0097 - val_loss: 0.0096\n",
      "Epoch 42/200\n",
      "107/107 [==============================] - 0s 93us/step - loss: 0.0091 - val_loss: 0.0090\n",
      "Epoch 43/200\n",
      "107/107 [==============================] - 0s 84us/step - loss: 0.0086 - val_loss: 0.0084\n",
      "Epoch 44/200\n",
      "107/107 [==============================] - 0s 93us/step - loss: 0.0081 - val_loss: 0.0079\n",
      "Epoch 45/200\n",
      "107/107 [==============================] - 0s 93us/step - loss: 0.0076 - val_loss: 0.0074\n",
      "Epoch 46/200\n",
      "107/107 [==============================] - 0s 93us/step - loss: 0.0071 - val_loss: 0.0069\n",
      "Epoch 47/200\n",
      "107/107 [==============================] - 0s 103us/step - loss: 0.0067 - val_loss: 0.0063\n",
      "Epoch 48/200\n",
      "107/107 [==============================] - 0s 93us/step - loss: 0.0063 - val_loss: 0.0059\n",
      "Epoch 49/200\n",
      "107/107 [==============================] - 0s 84us/step - loss: 0.0059 - val_loss: 0.0056\n",
      "Epoch 50/200\n",
      "107/107 [==============================] - 0s 93us/step - loss: 0.0055 - val_loss: 0.0051\n",
      "Epoch 51/200\n",
      "107/107 [==============================] - 0s 93us/step - loss: 0.0051 - val_loss: 0.0047\n",
      "Epoch 52/200\n",
      "107/107 [==============================] - 0s 93us/step - loss: 0.0047 - val_loss: 0.0043\n",
      "Epoch 53/200\n",
      "107/107 [==============================] - 0s 84us/step - loss: 0.0044 - val_loss: 0.0039\n",
      "Epoch 54/200\n",
      "107/107 [==============================] - 0s 103us/step - loss: 0.0041 - val_loss: 0.0036\n",
      "Epoch 55/200\n",
      "107/107 [==============================] - 0s 93us/step - loss: 0.0038 - val_loss: 0.0033\n",
      "Epoch 56/200\n",
      "107/107 [==============================] - 0s 93us/step - loss: 0.0035 - val_loss: 0.0030\n",
      "Epoch 57/200\n",
      "107/107 [==============================] - 0s 103us/step - loss: 0.0032 - val_loss: 0.0027\n",
      "Epoch 58/200\n",
      "107/107 [==============================] - 0s 103us/step - loss: 0.0030 - val_loss: 0.0024\n",
      "Epoch 59/200\n",
      "107/107 [==============================] - 0s 93us/step - loss: 0.0027 - val_loss: 0.0022\n",
      "Epoch 60/200\n",
      "107/107 [==============================] - 0s 103us/step - loss: 0.0025 - val_loss: 0.0020\n",
      "Epoch 61/200\n",
      "107/107 [==============================] - 0s 93us/step - loss: 0.0023 - val_loss: 0.0018\n",
      "Epoch 62/200\n",
      "107/107 [==============================] - 0s 84us/step - loss: 0.0022 - val_loss: 0.0017\n",
      "Epoch 63/200\n",
      "107/107 [==============================] - 0s 93us/step - loss: 0.0020 - val_loss: 0.0015\n",
      "Epoch 64/200\n",
      "107/107 [==============================] - 0s 93us/step - loss: 0.0018 - val_loss: 0.0013\n",
      "Epoch 65/200\n",
      "107/107 [==============================] - 0s 93us/step - loss: 0.0017 - val_loss: 0.0012\n",
      "Epoch 66/200\n",
      "107/107 [==============================] - 0s 84us/step - loss: 0.0016 - val_loss: 0.0011\n",
      "Epoch 67/200\n",
      "107/107 [==============================] - 0s 93us/step - loss: 0.0014 - val_loss: 9.4462e-04\n",
      "Epoch 68/200\n",
      "107/107 [==============================] - 0s 93us/step - loss: 0.0013 - val_loss: 8.1125e-04\n",
      "Epoch 69/200\n",
      "107/107 [==============================] - 0s 93us/step - loss: 0.0012 - val_loss: 7.4398e-04\n",
      "Epoch 70/200\n",
      "107/107 [==============================] - 0s 93us/step - loss: 0.0011 - val_loss: 6.8970e-04\n",
      "Epoch 71/200\n",
      "107/107 [==============================] - 0s 93us/step - loss: 0.0011 - val_loss: 5.8807e-04\n",
      "Epoch 72/200\n",
      "107/107 [==============================] - 0s 84us/step - loss: 9.8117e-04 - val_loss: 4.9466e-04\n",
      "Epoch 73/200\n",
      "107/107 [==============================] - 0s 93us/step - loss: 9.1489e-04 - val_loss: 4.4264e-04\n",
      "Epoch 74/200\n",
      "107/107 [==============================] - 0s 112us/step - loss: 8.5705e-04 - val_loss: 3.9672e-04\n",
      "Epoch 75/200\n",
      "107/107 [==============================] - 0s 131us/step - loss: 8.0477e-04 - val_loss: 3.6281e-04\n",
      "Epoch 76/200\n",
      "107/107 [==============================] - 0s 93us/step - loss: 7.5631e-04 - val_loss: 3.2398e-04\n",
      "Epoch 77/200\n",
      "107/107 [==============================] - 0s 93us/step - loss: 7.1927e-04 - val_loss: 3.0944e-04\n",
      "Epoch 78/200\n",
      "107/107 [==============================] - 0s 84us/step - loss: 6.7632e-04 - val_loss: 2.5389e-04\n",
      "Epoch 79/200\n"
     ]
    },
    {
     "name": "stdout",
     "output_type": "stream",
     "text": [
      "107/107 [==============================] - 0s 93us/step - loss: 6.4445e-04 - val_loss: 2.2647e-04\n",
      "Epoch 80/200\n",
      "107/107 [==============================] - 0s 93us/step - loss: 6.1976e-04 - val_loss: 1.9325e-04\n",
      "Epoch 81/200\n",
      "107/107 [==============================] - 0s 93us/step - loss: 5.8421e-04 - val_loss: 2.0402e-04\n",
      "Epoch 82/200\n",
      "107/107 [==============================] - 0s 103us/step - loss: 5.6093e-04 - val_loss: 2.0032e-04\n",
      "Epoch 83/200\n",
      "107/107 [==============================] - 0s 84us/step - loss: 5.3752e-04 - val_loss: 1.7505e-04\n",
      "Epoch 84/200\n",
      "107/107 [==============================] - 0s 93us/step - loss: 5.2250e-04 - val_loss: 1.5428e-04\n",
      "Epoch 85/200\n",
      "107/107 [==============================] - 0s 93us/step - loss: 4.9685e-04 - val_loss: 1.4960e-04\n",
      "Epoch 86/200\n",
      "107/107 [==============================] - 0s 93us/step - loss: 4.7888e-04 - val_loss: 1.4830e-04\n",
      "Epoch 87/200\n",
      "107/107 [==============================] - 0s 93us/step - loss: 4.7257e-04 - val_loss: 1.6837e-04\n",
      "Epoch 88/200\n",
      "107/107 [==============================] - 0s 93us/step - loss: 4.5203e-04 - val_loss: 1.3932e-04\n",
      "Epoch 89/200\n",
      "107/107 [==============================] - 0s 93us/step - loss: 4.3782e-04 - val_loss: 1.4422e-04\n",
      "Epoch 90/200\n",
      "107/107 [==============================] - 0s 93us/step - loss: 4.2590e-04 - val_loss: 1.5150e-04\n",
      "Epoch 91/200\n",
      "107/107 [==============================] - 0s 103us/step - loss: 4.1233e-04 - val_loss: 1.4814e-04\n",
      "Epoch 92/200\n",
      "107/107 [==============================] - 0s 103us/step - loss: 4.0417e-04 - val_loss: 1.3397e-04\n",
      "Epoch 93/200\n",
      "107/107 [==============================] - 0s 84us/step - loss: 3.9244e-04 - val_loss: 1.3873e-04\n",
      "Epoch 94/200\n",
      "107/107 [==============================] - 0s 103us/step - loss: 3.8373e-04 - val_loss: 1.6433e-04\n",
      "Epoch 95/200\n",
      "107/107 [==============================] - 0s 103us/step - loss: 3.7607e-04 - val_loss: 1.6425e-04\n",
      "Epoch 96/200\n",
      "107/107 [==============================] - 0s 84us/step - loss: 3.6703e-04 - val_loss: 1.4686e-04\n",
      "Epoch 97/200\n",
      "107/107 [==============================] - 0s 93us/step - loss: 3.6432e-04 - val_loss: 1.4134e-04\n"
     ]
    }
   ],
   "source": [
    "from keras.models import Sequential\n",
    "from keras.layers import Dense\n",
    "from keras.callbacks import EarlyStopping, ModelCheckpoint\n",
    "from keras.layers import LSTM\n",
    "import os\n",
    "\n",
    "model = Sequential()\n",
    "model.add(LSTM(16, \n",
    "               input_shape=(train_feature.shape[1], train_feature.shape[2]), \n",
    "               activation='relu', \n",
    "               return_sequences=False)\n",
    "          )\n",
    "model.add(Dense(1))\n",
    "\n",
    "model.compile(loss='mean_squared_error', optimizer='adam')\n",
    "early_stop = EarlyStopping(monitor='val_loss', patience=5)\n",
    "\n",
    "# checkpoint = ModelCheckpoint(filename, monitor='val_loss', verbose=1, save_best_only=True, mode='auto')\n",
    "\n",
    "history = model.fit(x_train, y_train, \n",
    "                    epochs=200, \n",
    "                    batch_size=16,\n",
    "                    validation_data=(x_valid, y_valid), \n",
    "                    callbacks=[early_stop])\n"
   ]
  },
  {
   "cell_type": "code",
   "execution_count": 178,
   "metadata": {},
   "outputs": [],
   "source": [
    "# 예측\n",
    "pred = model.predict(test_feature)"
   ]
  },
  {
   "cell_type": "code",
   "execution_count": 179,
   "metadata": {
    "scrolled": true
   },
   "outputs": [
    {
     "data": {
      "image/png": "[encoded data removed]",
      "text/plain": [
       "<Figure size 720x576 with 1 Axes>"
      ]
     },
     "metadata": {
      "needs_background": "light"
     },
     "output_type": "display_data"
    }
   ],
   "source": [
    "plt.figure(figsize=(10, 8))\n",
    "plt.plot(test_label, label='actual')\n",
    "plt.plot(pred, label='prediction')\n",
    "plt.grid()\n",
    "plt.legend()\n",
    "plt.show()"
   ]
  },
  {
   "cell_type": "code",
   "execution_count": null,
   "metadata": {},
   "outputs": [],
   "source": []
  }
 ],
 "metadata": {
  "kernelspec": {
   "display_name": "Python 3",
   "language": "python",
   "name": "python3"
  },
  "language_info": {
   "codemirror_mode": {
    "name": "ipython",
    "version": 3
   },
   "file_extension": ".py",
   "mimetype": "text/x-python",
   "name": "python",
   "nbconvert_exporter": "python",
   "pygments_lexer": "ipython3",
   "version": "3.7.4"
  }
 },
 "nbformat": 4,
 "nbformat_minor": 2
}
